{
 "nbformat": 4,
 "nbformat_minor": 2,
 "metadata": {
  "language_info": {
   "name": "python",
   "codemirror_mode": {
    "name": "ipython",
    "version": 3
   },
   "version": "3.7.4-final"
  },
  "orig_nbformat": 2,
  "file_extension": ".py",
  "mimetype": "text/x-python",
  "name": "python",
  "npconvert_exporter": "python",
  "pygments_lexer": "ipython3",
  "version": 3,
  "kernelspec": {
   "name": "python37464bitbasecondad3382e3e5c7c452ab9400fd3b42132fa",
   "display_name": "Python 3.7.4 64-bit ('base': conda)"
  }
 },
 "cells": [
  {
   "cell_type": "code",
   "execution_count": 1,
   "metadata": {},
   "outputs": [],
   "source": [
    "import numpy as np"
   ]
  },
  {
   "cell_type": "code",
   "execution_count": 5,
   "metadata": {},
   "outputs": [],
   "source": [
    "a = np.linspace(0,1,11)"
   ]
  },
  {
   "cell_type": "code",
   "execution_count": 7,
   "metadata": {},
   "outputs": [],
   "source": [
    "b = np.array(list(range(4)))"
   ]
  },
  {
   "cell_type": "code",
   "execution_count": 9,
   "metadata": {},
   "outputs": [
    {
     "data": {
      "text/plain": "array([0. , 0.1, 0.2, 0.3])"
     },
     "execution_count": 9,
     "metadata": {},
     "output_type": "execute_result"
    }
   ],
   "source": [
    "a[b]"
   ]
  },
  {
   "cell_type": "code",
   "execution_count": 45,
   "metadata": {},
   "outputs": [],
   "source": [
    "from scipy.sparse import dia_matrix, eye\n",
    "n = 10\n",
    "offsets = np.array([0, -1, 1, n-1, 1-n])\n",
    "data = np.array([-2*np.ones(n), 0*np.ones(n), 0*np.ones(n), 0*np.ones(n), 0*np.ones(n)])\n",
    "Dxx = dia_matrix((data, offsets), shape=(n,n))"
   ]
  },
  {
   "cell_type": "code",
   "execution_count": 42,
   "metadata": {},
   "outputs": [],
   "source": [
    "x = np.random.randn(10)"
   ]
  },
  {
   "cell_type": "code",
   "execution_count": 47,
   "metadata": {},
   "outputs": [
    {
     "data": {
      "text/plain": "array([[3., 0., 0., 0., 0., 0., 0., 0., 0., 0.],\n       [0., 3., 0., 0., 0., 0., 0., 0., 0., 0.],\n       [0., 0., 3., 0., 0., 0., 0., 0., 0., 0.],\n       [0., 0., 0., 3., 0., 0., 0., 0., 0., 0.],\n       [0., 0., 0., 0., 3., 0., 0., 0., 0., 0.],\n       [0., 0., 0., 0., 0., 3., 0., 0., 0., 0.],\n       [0., 0., 0., 0., 0., 0., 3., 0., 0., 0.],\n       [0., 0., 0., 0., 0., 0., 0., 3., 0., 0.],\n       [0., 0., 0., 0., 0., 0., 0., 0., 3., 0.],\n       [0., 0., 0., 0., 0., 0., 0., 0., 0., 3.]])"
     },
     "execution_count": 47,
     "metadata": {},
     "output_type": "execute_result"
    }
   ],
   "source": [
    "(eye(10) - Dxx).toarray()"
   ]
  },
  {
   "cell_type": "code",
   "execution_count": 43,
   "metadata": {},
   "outputs": [
    {
     "data": {
      "text/plain": "array([-1.03768077, -3.26564466, -0.29702764,  0.70726998, -0.09628959,\n        0.54978103,  0.62895275,  3.09208259,  0.5178807 , -6.50305789])"
     },
     "execution_count": 43,
     "metadata": {},
     "output_type": "execute_result"
    }
   ],
   "source": [
    "Dxx.dot(x)"
   ]
  },
  {
   "cell_type": "code",
   "execution_count": 33,
   "metadata": {},
   "outputs": [],
   "source": [
    "from scipy.sparse.linalg import inv"
   ]
  },
  {
   "cell_type": "code",
   "execution_count": 36,
   "metadata": {},
   "outputs": [
    {
     "data": {
      "text/plain": "array([[-1.44758559e+15, -1.44758559e+15, -1.44758559e+15,\n        -1.44758559e+15, -1.44758559e+15, -1.44758559e+15,\n        -1.44758559e+15, -1.44758559e+15, -1.44758559e+15,\n        -1.44758559e+15],\n       [-1.44758559e+15, -1.44758559e+15, -1.44758559e+15,\n        -1.44758559e+15, -1.44758559e+15, -1.44758559e+15,\n        -1.44758559e+15, -1.44758559e+15, -1.44758559e+15,\n        -1.44758559e+15],\n       [-1.44758559e+15, -1.44758559e+15, -1.44758559e+15,\n        -1.44758559e+15, -1.44758559e+15, -1.44758559e+15,\n        -1.44758559e+15, -1.44758559e+15, -1.44758559e+15,\n        -1.44758559e+15],\n       [-1.44758559e+15, -1.44758559e+15, -1.44758559e+15,\n        -1.44758559e+15, -1.44758559e+15, -1.44758559e+15,\n        -1.44758559e+15, -1.44758559e+15, -1.44758559e+15,\n        -1.44758559e+15],\n       [-1.44758559e+15, -1.44758559e+15, -1.44758559e+15,\n        -1.44758559e+15, -1.44758559e+15, -1.44758559e+15,\n        -1.44758559e+15, -1.44758559e+15, -1.44758559e+15,\n        -1.44758559e+15],\n       [-1.44758559e+15, -1.44758559e+15, -1.44758559e+15,\n        -1.44758559e+15, -1.44758559e+15, -1.44758559e+15,\n        -1.44758559e+15, -1.44758559e+15, -1.44758559e+15,\n        -1.44758559e+15],\n       [-1.44758559e+15, -1.44758559e+15, -1.44758559e+15,\n        -1.44758559e+15, -1.44758559e+15, -1.44758559e+15,\n        -1.44758559e+15, -1.44758559e+15, -1.44758559e+15,\n        -1.44758559e+15],\n       [-1.44758559e+15, -1.44758559e+15, -1.44758559e+15,\n        -1.44758559e+15, -1.44758559e+15, -1.44758559e+15,\n        -1.44758559e+15, -1.44758559e+15, -1.44758559e+15,\n        -1.44758559e+15],\n       [-1.44758559e+15, -1.44758559e+15, -1.44758559e+15,\n        -1.44758559e+15, -1.44758559e+15, -1.44758559e+15,\n        -1.44758559e+15, -1.44758559e+15, -1.44758559e+15,\n        -1.44758559e+15],\n       [-1.44758559e+15, -1.44758559e+15, -1.44758559e+15,\n        -1.44758559e+15, -1.44758559e+15, -1.44758559e+15,\n        -1.44758559e+15, -1.44758559e+15, -1.44758559e+15,\n        -1.44758559e+15]])"
     },
     "execution_count": 36,
     "metadata": {},
     "output_type": "execute_result"
    }
   ],
   "source": [
    "inv(Dxx).toarray()"
   ]
  },
  {
   "cell_type": "code",
   "execution_count": 50,
   "metadata": {},
   "outputs": [],
   "source": [
    "b = np.arange(0,100,10)"
   ]
  },
  {
   "cell_type": "code",
   "execution_count": 49,
   "metadata": {},
   "outputs": [],
   "source": [
    "a = np.random.randn(100,100)"
   ]
  },
  {
   "cell_type": "code",
   "execution_count": 52,
   "metadata": {},
   "outputs": [
    {
     "data": {
      "text/plain": "array([[-0.02627898],\n       [-2.24575309],\n       [ 0.09381083],\n       [-0.18640083],\n       [-0.16260481],\n       [-0.30969395],\n       [-0.32758321],\n       [ 1.5967689 ],\n       [-0.50463366],\n       [-0.69116916]])"
     },
     "execution_count": 52,
     "metadata": {},
     "output_type": "execute_result"
    }
   ],
   "source": [
    "a[0,b].reshape(-1,1)"
   ]
  },
  {
   "cell_type": "code",
   "execution_count": null,
   "metadata": {},
   "outputs": [],
   "source": []
  }
 ]
}