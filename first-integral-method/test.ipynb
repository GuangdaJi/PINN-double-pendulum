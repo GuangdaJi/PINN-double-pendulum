{
 "nbformat": 4,
 "nbformat_minor": 2,
 "metadata": {
  "language_info": {
   "name": "python",
   "codemirror_mode": {
    "name": "ipython",
    "version": 3
   },
   "version": "3.7.4-final"
  },
  "orig_nbformat": 2,
  "file_extension": ".py",
  "mimetype": "text/x-python",
  "name": "python",
  "npconvert_exporter": "python",
  "pygments_lexer": "ipython3",
  "version": 3,
  "kernelspec": {
   "name": "python37464bitbaseconda223bd2bac7e14511beb5009001d66b0c",
   "display_name": "Python 3.7.4 64-bit ('base': conda)"
  }
 },
 "cells": [
  {
   "cell_type": "code",
   "execution_count": 6,
   "metadata": {},
   "outputs": [],
   "source": [
    "from net import Net"
   ]
  },
  {
   "cell_type": "code",
   "execution_count": 8,
   "metadata": {},
   "outputs": [],
   "source": [
    "alpha_net = Net(3, 1)\n",
    "S_net = Net(3, 1)\n",
    "    "
   ]
  },
  {
   "cell_type": "code",
   "execution_count": 11,
   "metadata": {},
   "outputs": [
    {
     "output_type": "execute_result",
     "data": {
      "text/plain": "<bound method Module.parameters of Net(\n  (features): Sequential(\n    (fc0): Linear(in_features=3, out_features=20, bias=True)\n    (softplus0): Softplus(beta=1, threshold=20)\n    (fc1): Linear(in_features=20, out_features=20, bias=True)\n    (softplus1): Softplus(beta=1, threshold=20)\n    (fc2): Linear(in_features=20, out_features=20, bias=True)\n    (softplus2): Softplus(beta=1, threshold=20)\n    (fc3): Linear(in_features=20, out_features=20, bias=True)\n    (softplus3): Softplus(beta=1, threshold=20)\n    (fc4): Linear(in_features=20, out_features=20, bias=True)\n    (softplus4): Softplus(beta=1, threshold=20)\n    (fc5): Linear(in_features=20, out_features=20, bias=True)\n    (softplus5): Softplus(beta=1, threshold=20)\n    (fc6): Linear(in_features=20, out_features=20, bias=True)\n    (softplus6): Softplus(beta=1, threshold=20)\n    (fc7): Linear(in_features=20, out_features=20, bias=True)\n    (softplus7): Softplus(beta=1, threshold=20)\n    (fc8): Linear(in_features=20, out_features=20, bias=True)\n    (softplus8): Softplus(beta=1, threshold=20)\n    (fc9): Linear(in_features=20, out_features=20, bias=True)\n    (softplus9): Softplus(beta=1, threshold=20)\n    (fc10): Linear(in_features=20, out_features=1, bias=True)\n  )\n)>"
     },
     "metadata": {},
     "execution_count": 11
    }
   ],
   "source": [
    "alpha_net.parameters"
   ]
  },
  {
   "cell_type": "code",
   "execution_count": null,
   "metadata": {},
   "outputs": [],
   "source": []
  }
 ]
}